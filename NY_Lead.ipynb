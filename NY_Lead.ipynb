{
 "cells": [
  {
   "cell_type": "markdown",
   "metadata": {},
   "source": [
    "### Import Libraries"
   ]
  },
  {
   "cell_type": "code",
   "execution_count": 1,
   "metadata": {},
   "outputs": [],
   "source": [
    "import sys\n",
    "import pandas as pd\n",
    "import numpy as np\n",
    "import matplotlib.pyplot as plt\n",
    "import seaborn as sns"
   ]
  },
  {
   "cell_type": "markdown",
   "metadata": {},
   "source": [
    "### Import Data"
   ]
  },
  {
   "cell_type": "code",
   "execution_count": 6,
   "metadata": {},
   "outputs": [],
   "source": [
    "lead = pd.read_csv('NY_Lead.csv')"
   ]
  },
  {
   "cell_type": "markdown",
   "metadata": {},
   "source": [
    "### Clean Data and Add Columns"
   ]
  },
  {
   "cell_type": "code",
   "execution_count": 24,
   "metadata": {},
   "outputs": [],
   "source": [
    "#Drop Copper data, only interested in lead\n",
    "lead = lead.drop(columns=['Copper First Draw (mg/L)', 'Copper 1-2 Minute Flush (mg/L)', 'Copper 5 minute Flush (mg/L)'])\n",
    "lead['Date Collected'] = pd.to_datetime(lead['Date Collected'])\n",
    "lead['Date Received'] = pd.to_datetime(lead['Date Received'])\n",
    "lead['Hold Time'] = lead['Date Received'] - lead['Date Collected']"
   ]
  },
  {
   "cell_type": "code",
   "execution_count": 58,
   "metadata": {},
   "outputs": [],
   "source": [
    "# Create Exceedance columns. EPA exceedance is 15 ppb or 0.015 mg/L\n",
    "lead['First_Exceed'] = lead['Lead First_Draw (mg/L)'] > 0.015\n",
    "lead['First_Exceed'] = lead['First_Exceed'].astype(int)\n",
    "\n",
    "lead['1-2_Exceed'] = lead['Lead 1-2 Minute Flush (mg/L)'] > 0.015\n",
    "lead['1-2_Exceed'] = lead['1-2_Exceed'].astype(int)\n",
    "\n",
    "lead['5_Exceed'] = lead['Lead 5 Minute Flush (mg/L)'] > 0.015\n",
    "lead['5_Exceed'] = lead['5_Exceed'].astype(int)\n",
    "### Change to function later\n",
    "\n",
    "def any_exceed(col1, col2, col3):\n",
    "    if col1 == 1:\n",
    "        print(1)\n",
    "    elif col2 == 1:\n",
    "        print(1)\n",
    "    elif col3 ==1:\n",
    "        print(1)\n",
    "    else:\n",
    "        print(0)\n",
    "        \n",
    "head['Exceed'] = \n",
    "df['event_name'] = df['event'].map(event_name)\""
   ]
  },
  {
   "cell_type": "code",
   "execution_count": 52,
   "metadata": {
    "scrolled": true
   },
   "outputs": [
    {
     "data": {
      "text/html": [
       "<div>\n",
       "<style scoped>\n",
       "    .dataframe tbody tr th:only-of-type {\n",
       "        vertical-align: middle;\n",
       "    }\n",
       "\n",
       "    .dataframe tbody tr th {\n",
       "        vertical-align: top;\n",
       "    }\n",
       "\n",
       "    .dataframe thead th {\n",
       "        text-align: right;\n",
       "    }\n",
       "</style>\n",
       "<table border=\"1\" class=\"dataframe\">\n",
       "  <thead>\n",
       "    <tr style=\"text-align: right;\">\n",
       "      <th></th>\n",
       "      <th>Kit ID</th>\n",
       "      <th>Borough</th>\n",
       "      <th>Zipcode</th>\n",
       "      <th>Date Collected</th>\n",
       "      <th>Date Received</th>\n",
       "      <th>Lead First_Draw (mg/L)</th>\n",
       "      <th>Lead 1-2 Minute Flush (mg/L)</th>\n",
       "      <th>Lead 5 Minute Flush (mg/L)</th>\n",
       "      <th>Hold TIme</th>\n",
       "      <th>Hold Time</th>\n",
       "      <th>First_Exceed</th>\n",
       "      <th>1-2_Exceed</th>\n",
       "      <th>5_Exceed</th>\n",
       "      <th>Exceed</th>\n",
       "    </tr>\n",
       "  </thead>\n",
       "  <tbody>\n",
       "    <tr>\n",
       "      <th>0</th>\n",
       "      <td>13220181</td>\n",
       "      <td>NEW YORK</td>\n",
       "      <td>10128</td>\n",
       "      <td>2014-01-01</td>\n",
       "      <td>2014-01-08</td>\n",
       "      <td>0.000</td>\n",
       "      <td>0.0</td>\n",
       "      <td>NaN</td>\n",
       "      <td>7 days</td>\n",
       "      <td>7 days</td>\n",
       "      <td>0</td>\n",
       "      <td>0</td>\n",
       "      <td>0</td>\n",
       "      <td>False</td>\n",
       "    </tr>\n",
       "    <tr>\n",
       "      <th>1</th>\n",
       "      <td>13300298</td>\n",
       "      <td>BROOKLYN</td>\n",
       "      <td>11205</td>\n",
       "      <td>2014-01-01</td>\n",
       "      <td>2014-01-08</td>\n",
       "      <td>0.000</td>\n",
       "      <td>0.0</td>\n",
       "      <td>0.0</td>\n",
       "      <td>7 days</td>\n",
       "      <td>7 days</td>\n",
       "      <td>0</td>\n",
       "      <td>0</td>\n",
       "      <td>0</td>\n",
       "      <td>False</td>\n",
       "    </tr>\n",
       "    <tr>\n",
       "      <th>2</th>\n",
       "      <td>13300297</td>\n",
       "      <td>BROOKLYN</td>\n",
       "      <td>11205</td>\n",
       "      <td>2014-01-01</td>\n",
       "      <td>2014-01-08</td>\n",
       "      <td>0.000</td>\n",
       "      <td>0.0</td>\n",
       "      <td>0.0</td>\n",
       "      <td>7 days</td>\n",
       "      <td>7 days</td>\n",
       "      <td>0</td>\n",
       "      <td>0</td>\n",
       "      <td>0</td>\n",
       "      <td>False</td>\n",
       "    </tr>\n",
       "    <tr>\n",
       "      <th>3</th>\n",
       "      <td>13219471</td>\n",
       "      <td>NEW YORK</td>\n",
       "      <td>10028</td>\n",
       "      <td>2014-01-01</td>\n",
       "      <td>2014-01-07</td>\n",
       "      <td>0.007</td>\n",
       "      <td>0.0</td>\n",
       "      <td>NaN</td>\n",
       "      <td>6 days</td>\n",
       "      <td>6 days</td>\n",
       "      <td>0</td>\n",
       "      <td>0</td>\n",
       "      <td>0</td>\n",
       "      <td>False</td>\n",
       "    </tr>\n",
       "    <tr>\n",
       "      <th>4</th>\n",
       "      <td>11211471</td>\n",
       "      <td>LONG ISLAND CITY</td>\n",
       "      <td>11101</td>\n",
       "      <td>2014-01-01</td>\n",
       "      <td>2014-01-07</td>\n",
       "      <td>0.000</td>\n",
       "      <td>0.0</td>\n",
       "      <td>NaN</td>\n",
       "      <td>6 days</td>\n",
       "      <td>6 days</td>\n",
       "      <td>0</td>\n",
       "      <td>0</td>\n",
       "      <td>0</td>\n",
       "      <td>False</td>\n",
       "    </tr>\n",
       "  </tbody>\n",
       "</table>\n",
       "</div>"
      ],
      "text/plain": [
       "     Kit ID           Borough  Zipcode Date Collected Date Received  \\\n",
       "0  13220181          NEW YORK    10128     2014-01-01    2014-01-08   \n",
       "1  13300298          BROOKLYN    11205     2014-01-01    2014-01-08   \n",
       "2  13300297          BROOKLYN    11205     2014-01-01    2014-01-08   \n",
       "3  13219471          NEW YORK    10028     2014-01-01    2014-01-07   \n",
       "4  11211471  LONG ISLAND CITY    11101     2014-01-01    2014-01-07   \n",
       "\n",
       "   Lead First_Draw (mg/L)  Lead 1-2 Minute Flush (mg/L)  \\\n",
       "0                   0.000                           0.0   \n",
       "1                   0.000                           0.0   \n",
       "2                   0.000                           0.0   \n",
       "3                   0.007                           0.0   \n",
       "4                   0.000                           0.0   \n",
       "\n",
       "   Lead 5 Minute Flush (mg/L) Hold TIme Hold Time  First_Exceed  1-2_Exceed  \\\n",
       "0                         NaN    7 days    7 days             0           0   \n",
       "1                         0.0    7 days    7 days             0           0   \n",
       "2                         0.0    7 days    7 days             0           0   \n",
       "3                         NaN    6 days    6 days             0           0   \n",
       "4                         NaN    6 days    6 days             0           0   \n",
       "\n",
       "   5_Exceed  Exceed  \n",
       "0         0   False  \n",
       "1         0   False  \n",
       "2         0   False  \n",
       "3         0   False  \n",
       "4         0   False  "
      ]
     },
     "execution_count": 52,
     "metadata": {},
     "output_type": "execute_result"
    }
   ],
   "source": [
    "lead.head()"
   ]
  },
  {
   "cell_type": "code",
   "execution_count": 57,
   "metadata": {
    "scrolled": false
   },
   "outputs": [
    {
     "name": "stdout",
     "output_type": "stream",
     "text": [
      "<class 'pandas.core.frame.DataFrame'>\n",
      "RangeIndex: 14815 entries, 0 to 14814\n",
      "Data columns (total 14 columns):\n",
      "Kit ID                          14815 non-null int64\n",
      "Borough                         14815 non-null object\n",
      "Zipcode                         14815 non-null int64\n",
      "Date Collected                  14815 non-null datetime64[ns]\n",
      "Date Received                   14815 non-null datetime64[ns]\n",
      "Lead First_Draw (mg/L)          14794 non-null float64\n",
      "Lead 1-2 Minute Flush (mg/L)    14795 non-null float64\n",
      "Lead 5 Minute Flush (mg/L)      294 non-null float64\n",
      "Hold TIme                       14815 non-null timedelta64[ns]\n",
      "Hold Time                       14815 non-null timedelta64[ns]\n",
      "First_Exceed                    14815 non-null int32\n",
      "1-2_Exceed                      14815 non-null int32\n",
      "5_Exceed                        14815 non-null int32\n",
      "Exceed                          14815 non-null bool\n",
      "dtypes: bool(1), datetime64[ns](2), float64(3), int32(3), int64(2), object(1), timedelta64[ns](2)\n",
      "memory usage: 1.3+ MB\n"
     ]
    }
   ],
   "source": [
    "lead.info()"
   ]
  },
  {
   "cell_type": "code",
   "execution_count": 43,
   "metadata": {
    "scrolled": false
   },
   "outputs": [
    {
     "data": {
      "text/plain": [
       "Kit ID                                                               247738691111\n",
       "Borough                         NEW YORKBROOKLYNBROOKLYNNEW YORKLONG ISLAND CI...\n",
       "Zipcode                                                                 159643554\n",
       "Lead First_Draw (mg/L)                                                    120.288\n",
       "Lead 1-2 Minute Flush (mg/L)                                               24.194\n",
       "Lead 5 Minute Flush (mg/L)                                                  0.945\n",
       "Hold TIme                                                     76983 days 00:00:00\n",
       "Hold Time                                                     76983 days 00:00:00\n",
       "First_Exceed                                                                  433\n",
       "1-2_Exceed                                                                    318\n",
       "5_Exceed                                                                       14\n",
       "dtype: object"
      ]
     },
     "execution_count": 43,
     "metadata": {},
     "output_type": "execute_result"
    }
   ],
   "source": [
    "lead.sum()"
   ]
  },
  {
   "cell_type": "code",
   "execution_count": 60,
   "metadata": {},
   "outputs": [
    {
     "name": "stdout",
     "output_type": "stream",
     "text": [
      "0.02922713466081674\n",
      "0.021464731690853864\n",
      "0.0009449881876476544\n"
     ]
    }
   ],
   "source": [
    "print(433/14815)\n",
    "print(318/14815)\n",
    "print(14/14815)"
   ]
  },
  {
   "cell_type": "code",
   "execution_count": null,
   "metadata": {},
   "outputs": [],
   "source": []
  }
 ],
 "metadata": {
  "kernelspec": {
   "display_name": "Python 3",
   "language": "python",
   "name": "python3"
  },
  "language_info": {
   "codemirror_mode": {
    "name": "ipython",
    "version": 3
   },
   "file_extension": ".py",
   "mimetype": "text/x-python",
   "name": "python",
   "nbconvert_exporter": "python",
   "pygments_lexer": "ipython3",
   "version": "3.7.3"
  }
 },
 "nbformat": 4,
 "nbformat_minor": 2
}
